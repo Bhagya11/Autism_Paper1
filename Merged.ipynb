{
 "cells": [
  {
   "cell_type": "code",
   "execution_count": 2,
   "id": "55f42c17-1a77-4eb6-a05f-f071c78ecc15",
   "metadata": {},
   "outputs": [],
   "source": [
    "import numpy as np\n",
    "import pandas as pd"
   ]
  },
  {
   "cell_type": "code",
   "execution_count": 3,
   "id": "7b36ed0f-a6db-4b88-a574-f44305ca322a",
   "metadata": {},
   "outputs": [
    {
     "name": "stdout",
     "output_type": "stream",
     "text": [
      "[ 1.  -1.   0.   0.5]\n",
      "[array([ 1. , -2. ,  1.5,  0. ]), array([ 1. , -0.5, -2. , -1.5]), array([ 0. ,  1. , -1. ,  1.5])]\n"
     ]
    }
   ],
   "source": [
    "w=np.array([1,-1,0,0.5]).transpose()\n",
    "Xi=[np.array([1,-2,1.5,0]).transpose(), np.array([1,-0.5,-2,-1.5]).\n",
    "    transpose(), np.array([0,1,-1,1.5]).transpose()]\n",
    "C=1\n",
    "Iteration=0\n",
    "print(w)\n",
    "print (Xi) \n",
    "#print(len(xi))"
   ]
  },
  {
   "cell_type": "code",
   "execution_count": 6,
   "id": "4f8aa20e-ce0a-4e2f-aa50-73fa21411fc9",
   "metadata": {},
   "outputs": [
    {
     "name": "stdout",
     "output_type": "stream",
     "text": [
      "14.75\n",
      "1.0\n",
      "[ 1.  -2.   1.5  0. ]\n",
      "weight vector for this iteration: [ 2.  -5.5  6.   0.5]\n",
      "-8.0\n",
      "-1.0\n",
      "[-1.   0.5  2.   1.5]\n",
      "weight vector for this iteration: [ 1. -5.  8.  2.]\n",
      "-10.0\n",
      "-1.0\n",
      "[-0.  -1.   1.  -1.5]\n",
      "weight vector for this iteration: [ 1.  -6.   9.   0.5]\n"
     ]
    }
   ],
   "source": [
    "for i in range(len(Xi)): \n",
    "    net=sum(w.transpose()*Xi[i])\n",
    "    print(net)\n",
    "    Fnet=np.sign(net)\n",
    "    print(Fnet)\n",
    "    dw=C*Fnet*Xi[i]\n",
    "    print(dw)\n",
    "    w=w+dw \n",
    "    print('weight vector for this iteration:',w)\n",
    "    Iteration+=1"
   ]
  },
  {
   "cell_type": "code",
   "execution_count": 5,
   "id": "72f9e6ca-4242-4adb-ac3a-c4e2619a8d28",
   "metadata": {},
   "outputs": [
    {
     "name": "stdout",
     "output_type": "stream",
     "text": [
      "final weight matrix: [ 1.  -3.5  4.5  0.5]\n",
      "number of iterations:  3\n"
     ]
    }
   ],
   "source": [
    "\n",
    "print (\"final weight matrix:\",w) \n",
    "print('number of iterations: ', Iteration)"
   ]
  },
  {
   "cell_type": "code",
   "execution_count": 9,
   "id": "46d7c0f0-4808-43ba-999b-361ce513839a",
   "metadata": {},
   "outputs": [
    {
     "name": "stdin",
     "output_type": "stream",
     "text": [
      "Enter the number of inputs:  3\n",
      "Enter the number of training samples:  4\n",
      " 5\n",
      " 6\n",
      " 7\n",
      " 8\n",
      " 9\n",
      " 4\n",
      " 6\n",
      " 5\n",
      " 5\n",
      " 5\n",
      " 6\n",
      " 7\n",
      "Enter the value of learning constant:  1\n"
     ]
    },
    {
     "name": "stdout",
     "output_type": "stream",
     "text": [
      "[-23.0, -27.0]\n"
     ]
    }
   ],
   "source": [
    "num_inputs = int(input(\"Enter the number of inputs: \"))\n",
    "num_samples = int(input(\"Enter the number of training samples: \"))\n",
    "train_set = [[int(input()) for x in range (num_inputs)] for y in range(num_samples)] \n",
    "\n",
    "C = float(input(\"Enter the value of learning constant: \"))\n",
    "\n",
    "# weights = [np.random.uniform(-1,1) for i in range(num_inputs)]\n",
    "weights = [1,-1]\n",
    "\n",
    "def sign_function(input_value):\n",
    "  return (1 if input_value >= 0 else -1)\n",
    "\n",
    "for iteration in range(len(train_set)):\n",
    "  net_value = 0\n",
    "  for i in range(len(weights)):\n",
    "    net_value += weights[i] * train_set[iteration][i] \n",
    "  \n",
    "  signed_value = sign_function(net_value)\n",
    "  delta = [C*signed_value*x for x in train_set[iteration]]\n",
    "  for j in range(len(weights)):\n",
    "    weights[j] = weights[j] + delta[j]\n",
    "\n",
    "print(weights)"
   ]
  },
  {
   "cell_type": "code",
   "execution_count": 1,
   "id": "8e4a5ae1-784b-411b-b8ed-1ca9573fc3eb",
   "metadata": {},
   "outputs": [],
   "source": [
    "import pandas as pd\n",
    "import numpy as np"
   ]
  },
  {
   "cell_type": "code",
   "execution_count": 2,
   "id": "d25fc581-6807-4222-9aca-d4b2a453248e",
   "metadata": {},
   "outputs": [],
   "source": [
    "data_pheno=pd.read_csv(r'data_phenotypic.csv')"
   ]
  },
  {
   "cell_type": "code",
   "execution_count": 3,
   "id": "7a931ba4-2536-42fb-9223-ce54ca936870",
   "metadata": {},
   "outputs": [],
   "source": [
    "data_smri=pd.read_csv(r'imagefeatures.csv')"
   ]
  },
  {
   "cell_type": "code",
   "execution_count": 4,
   "id": "c06405d6-46e0-4ea9-88bd-97286289511d",
   "metadata": {},
   "outputs": [
    {
     "data": {
      "text/plain": [
       "(1100, 29)"
      ]
     },
     "execution_count": 4,
     "metadata": {},
     "output_type": "execute_result"
    }
   ],
   "source": [
    "data_pheno.shape"
   ]
  },
  {
   "cell_type": "code",
   "execution_count": 5,
   "id": "275f5882-acdd-4d8c-988f-43adc50f8744",
   "metadata": {},
   "outputs": [
    {
     "data": {
      "text/plain": [
       "(1101, 2050)"
      ]
     },
     "execution_count": 5,
     "metadata": {},
     "output_type": "execute_result"
    }
   ],
   "source": [
    "data_smri.shape"
   ]
  },
  {
   "cell_type": "code",
   "execution_count": 16,
   "id": "3b74ca21-11bb-4286-8221-f74951b3afeb",
   "metadata": {},
   "outputs": [
    {
     "data": {
      "text/plain": [
       "(1100, 29)"
      ]
     },
     "execution_count": 16,
     "metadata": {},
     "output_type": "execute_result"
    }
   ],
   "source": [
    "data_pheno.shape"
   ]
  },
  {
   "cell_type": "code",
   "execution_count": 8,
   "id": "cf004f54-5590-48f4-b8a0-5eda9e240a44",
   "metadata": {},
   "outputs": [
    {
     "data": {
      "text/plain": [
       "Index(['SNO', 'subject', '0', '1', '2', '3', '4', '5', '6', '7',\n",
       "       ...\n",
       "       '2038', '2039', '2040', '2041', '2042', '2043', '2044', '2045', '2046',\n",
       "       '2047'],\n",
       "      dtype='object', length=2050)"
      ]
     },
     "execution_count": 8,
     "metadata": {},
     "output_type": "execute_result"
    }
   ],
   "source": [
    "data_smri.columns"
   ]
  },
  {
   "cell_type": "code",
   "execution_count": 10,
   "id": "0d22c981-5fea-4741-88e8-d3091fcdfcf9",
   "metadata": {},
   "outputs": [],
   "source": [
    "new=pd.merge(data_pheno,data_smri, on='subject', how='inner')"
   ]
  },
  {
   "cell_type": "code",
   "execution_count": 11,
   "id": "6c163703-adef-4d76-a887-823fcf13f8ad",
   "metadata": {},
   "outputs": [
    {
     "data": {
      "text/plain": [
       "(1100, 2078)"
      ]
     },
     "execution_count": 11,
     "metadata": {},
     "output_type": "execute_result"
    }
   ],
   "source": [
    "new.shape"
   ]
  },
  {
   "cell_type": "code",
   "execution_count": 12,
   "id": "6c9097c9-9ad5-490a-907a-0bffff8b3281",
   "metadata": {},
   "outputs": [],
   "source": [
    "new.to_csv('dataset1.csv')"
   ]
  },
  {
   "cell_type": "code",
   "execution_count": 14,
   "id": "ad8e2bda-ab82-45c2-93ae-d9789c57cc5d",
   "metadata": {},
   "outputs": [],
   "source": [
    "new.drop('Unnamed: 0',axis=1,inplace=True)"
   ]
  },
  {
   "cell_type": "code",
   "execution_count": 15,
   "id": "32536144-ec2c-4f0a-9a71-f00c4393f960",
   "metadata": {},
   "outputs": [
    {
     "data": {
      "text/html": [
       "<div>\n",
       "<style scoped>\n",
       "    .dataframe tbody tr th:only-of-type {\n",
       "        vertical-align: middle;\n",
       "    }\n",
       "\n",
       "    .dataframe tbody tr th {\n",
       "        vertical-align: top;\n",
       "    }\n",
       "\n",
       "    .dataframe thead th {\n",
       "        text-align: right;\n",
       "    }\n",
       "</style>\n",
       "<table border=\"1\" class=\"dataframe\">\n",
       "  <thead>\n",
       "    <tr style=\"text-align: right;\">\n",
       "      <th></th>\n",
       "      <th>DX_GROUP</th>\n",
       "      <th>DSM_IV_TR</th>\n",
       "      <th>subject</th>\n",
       "      <th>AGE_AT_SCAN</th>\n",
       "      <th>SEX</th>\n",
       "      <th>FIQ</th>\n",
       "      <th>EYE_STATUS_AT_SCAN</th>\n",
       "      <th>anat_cnr</th>\n",
       "      <th>anat_efc</th>\n",
       "      <th>anat_fber</th>\n",
       "      <th>...</th>\n",
       "      <th>2038</th>\n",
       "      <th>2039</th>\n",
       "      <th>2040</th>\n",
       "      <th>2041</th>\n",
       "      <th>2042</th>\n",
       "      <th>2043</th>\n",
       "      <th>2044</th>\n",
       "      <th>2045</th>\n",
       "      <th>2046</th>\n",
       "      <th>2047</th>\n",
       "    </tr>\n",
       "  </thead>\n",
       "  <tbody>\n",
       "    <tr>\n",
       "      <th>0</th>\n",
       "      <td>1</td>\n",
       "      <td>1</td>\n",
       "      <td>50002</td>\n",
       "      <td>16.77</td>\n",
       "      <td>1</td>\n",
       "      <td>103.0</td>\n",
       "      <td>2</td>\n",
       "      <td>10.201539</td>\n",
       "      <td>1.194664</td>\n",
       "      <td>16.223458</td>\n",
       "      <td>...</td>\n",
       "      <td>0.709169</td>\n",
       "      <td>0.145987</td>\n",
       "      <td>0.573981</td>\n",
       "      <td>1.079048</td>\n",
       "      <td>0.134220</td>\n",
       "      <td>6.668210</td>\n",
       "      <td>0.000000</td>\n",
       "      <td>1.752300</td>\n",
       "      <td>17.515268</td>\n",
       "      <td>5.955179</td>\n",
       "    </tr>\n",
       "    <tr>\n",
       "      <th>1</th>\n",
       "      <td>1</td>\n",
       "      <td>1</td>\n",
       "      <td>50003</td>\n",
       "      <td>24.45</td>\n",
       "      <td>1</td>\n",
       "      <td>124.0</td>\n",
       "      <td>2</td>\n",
       "      <td>7.165701</td>\n",
       "      <td>1.126752</td>\n",
       "      <td>10.460008</td>\n",
       "      <td>...</td>\n",
       "      <td>0.000000</td>\n",
       "      <td>0.341641</td>\n",
       "      <td>0.000000</td>\n",
       "      <td>3.089838</td>\n",
       "      <td>0.000000</td>\n",
       "      <td>1.457187</td>\n",
       "      <td>0.000000</td>\n",
       "      <td>0.387380</td>\n",
       "      <td>23.950901</td>\n",
       "      <td>3.587801</td>\n",
       "    </tr>\n",
       "    <tr>\n",
       "      <th>2</th>\n",
       "      <td>1</td>\n",
       "      <td>1</td>\n",
       "      <td>50004</td>\n",
       "      <td>19.09</td>\n",
       "      <td>1</td>\n",
       "      <td>113.0</td>\n",
       "      <td>2</td>\n",
       "      <td>7.698144</td>\n",
       "      <td>1.226218</td>\n",
       "      <td>9.725750</td>\n",
       "      <td>...</td>\n",
       "      <td>0.000000</td>\n",
       "      <td>1.229481</td>\n",
       "      <td>0.000000</td>\n",
       "      <td>2.499114</td>\n",
       "      <td>0.000000</td>\n",
       "      <td>2.882995</td>\n",
       "      <td>0.000000</td>\n",
       "      <td>0.116916</td>\n",
       "      <td>15.910932</td>\n",
       "      <td>7.955417</td>\n",
       "    </tr>\n",
       "    <tr>\n",
       "      <th>3</th>\n",
       "      <td>1</td>\n",
       "      <td>1</td>\n",
       "      <td>50005</td>\n",
       "      <td>13.73</td>\n",
       "      <td>2</td>\n",
       "      <td>119.0</td>\n",
       "      <td>2</td>\n",
       "      <td>9.071807</td>\n",
       "      <td>1.256278</td>\n",
       "      <td>11.198226</td>\n",
       "      <td>...</td>\n",
       "      <td>0.000000</td>\n",
       "      <td>3.199678</td>\n",
       "      <td>0.000000</td>\n",
       "      <td>4.286026</td>\n",
       "      <td>0.711807</td>\n",
       "      <td>0.000000</td>\n",
       "      <td>0.000000</td>\n",
       "      <td>1.928197</td>\n",
       "      <td>14.744667</td>\n",
       "      <td>5.338909</td>\n",
       "    </tr>\n",
       "    <tr>\n",
       "      <th>4</th>\n",
       "      <td>1</td>\n",
       "      <td>1</td>\n",
       "      <td>50006</td>\n",
       "      <td>13.37</td>\n",
       "      <td>1</td>\n",
       "      <td>109.0</td>\n",
       "      <td>2</td>\n",
       "      <td>8.026798</td>\n",
       "      <td>1.407166</td>\n",
       "      <td>6.282055</td>\n",
       "      <td>...</td>\n",
       "      <td>0.000000</td>\n",
       "      <td>1.352294</td>\n",
       "      <td>0.377805</td>\n",
       "      <td>0.707129</td>\n",
       "      <td>0.000000</td>\n",
       "      <td>4.792439</td>\n",
       "      <td>0.000000</td>\n",
       "      <td>1.056621</td>\n",
       "      <td>12.811856</td>\n",
       "      <td>2.673212</td>\n",
       "    </tr>\n",
       "    <tr>\n",
       "      <th>...</th>\n",
       "      <td>...</td>\n",
       "      <td>...</td>\n",
       "      <td>...</td>\n",
       "      <td>...</td>\n",
       "      <td>...</td>\n",
       "      <td>...</td>\n",
       "      <td>...</td>\n",
       "      <td>...</td>\n",
       "      <td>...</td>\n",
       "      <td>...</td>\n",
       "      <td>...</td>\n",
       "      <td>...</td>\n",
       "      <td>...</td>\n",
       "      <td>...</td>\n",
       "      <td>...</td>\n",
       "      <td>...</td>\n",
       "      <td>...</td>\n",
       "      <td>...</td>\n",
       "      <td>...</td>\n",
       "      <td>...</td>\n",
       "      <td>...</td>\n",
       "    </tr>\n",
       "    <tr>\n",
       "      <th>1095</th>\n",
       "      <td>1</td>\n",
       "      <td>2</td>\n",
       "      <td>51583</td>\n",
       "      <td>35.00</td>\n",
       "      <td>1</td>\n",
       "      <td>-9999.0</td>\n",
       "      <td>2</td>\n",
       "      <td>3.899774</td>\n",
       "      <td>1.697271</td>\n",
       "      <td>3.465151</td>\n",
       "      <td>...</td>\n",
       "      <td>2.027425</td>\n",
       "      <td>10.180809</td>\n",
       "      <td>0.000000</td>\n",
       "      <td>0.000000</td>\n",
       "      <td>0.000000</td>\n",
       "      <td>2.317079</td>\n",
       "      <td>0.000000</td>\n",
       "      <td>1.292755</td>\n",
       "      <td>7.126568</td>\n",
       "      <td>3.599783</td>\n",
       "    </tr>\n",
       "    <tr>\n",
       "      <th>1096</th>\n",
       "      <td>1</td>\n",
       "      <td>2</td>\n",
       "      <td>51584</td>\n",
       "      <td>49.00</td>\n",
       "      <td>1</td>\n",
       "      <td>-9999.0</td>\n",
       "      <td>2</td>\n",
       "      <td>2.757735</td>\n",
       "      <td>1.073076</td>\n",
       "      <td>7.633618</td>\n",
       "      <td>...</td>\n",
       "      <td>1.784619</td>\n",
       "      <td>6.494457</td>\n",
       "      <td>0.000000</td>\n",
       "      <td>2.521507</td>\n",
       "      <td>0.000000</td>\n",
       "      <td>0.000000</td>\n",
       "      <td>0.000000</td>\n",
       "      <td>1.361214</td>\n",
       "      <td>5.367865</td>\n",
       "      <td>0.610961</td>\n",
       "    </tr>\n",
       "    <tr>\n",
       "      <th>1097</th>\n",
       "      <td>1</td>\n",
       "      <td>1</td>\n",
       "      <td>51585</td>\n",
       "      <td>27.00</td>\n",
       "      <td>1</td>\n",
       "      <td>-9999.0</td>\n",
       "      <td>2</td>\n",
       "      <td>3.413469</td>\n",
       "      <td>1.358238</td>\n",
       "      <td>4.335700</td>\n",
       "      <td>...</td>\n",
       "      <td>0.542140</td>\n",
       "      <td>7.581014</td>\n",
       "      <td>0.000000</td>\n",
       "      <td>1.033106</td>\n",
       "      <td>0.000000</td>\n",
       "      <td>0.151174</td>\n",
       "      <td>0.000000</td>\n",
       "      <td>0.000000</td>\n",
       "      <td>7.463575</td>\n",
       "      <td>2.034858</td>\n",
       "    </tr>\n",
       "    <tr>\n",
       "      <th>1098</th>\n",
       "      <td>1</td>\n",
       "      <td>2</td>\n",
       "      <td>51606</td>\n",
       "      <td>29.00</td>\n",
       "      <td>2</td>\n",
       "      <td>-9999.0</td>\n",
       "      <td>2</td>\n",
       "      <td>7.839007</td>\n",
       "      <td>1.754363</td>\n",
       "      <td>12.270055</td>\n",
       "      <td>...</td>\n",
       "      <td>2.010930</td>\n",
       "      <td>0.000000</td>\n",
       "      <td>0.068670</td>\n",
       "      <td>0.000000</td>\n",
       "      <td>5.233705</td>\n",
       "      <td>6.228088</td>\n",
       "      <td>0.000000</td>\n",
       "      <td>0.871909</td>\n",
       "      <td>13.715996</td>\n",
       "      <td>9.897217</td>\n",
       "    </tr>\n",
       "    <tr>\n",
       "      <th>1099</th>\n",
       "      <td>1</td>\n",
       "      <td>2</td>\n",
       "      <td>51607</td>\n",
       "      <td>26.00</td>\n",
       "      <td>1</td>\n",
       "      <td>-9999.0</td>\n",
       "      <td>2</td>\n",
       "      <td>12.169297</td>\n",
       "      <td>2.818352</td>\n",
       "      <td>9.272107</td>\n",
       "      <td>...</td>\n",
       "      <td>0.000000</td>\n",
       "      <td>0.000000</td>\n",
       "      <td>0.000000</td>\n",
       "      <td>4.542171</td>\n",
       "      <td>1.996868</td>\n",
       "      <td>3.232938</td>\n",
       "      <td>0.581755</td>\n",
       "      <td>0.536283</td>\n",
       "      <td>17.962841</td>\n",
       "      <td>5.092534</td>\n",
       "    </tr>\n",
       "  </tbody>\n",
       "</table>\n",
       "<p>1100 rows × 2077 columns</p>\n",
       "</div>"
      ],
      "text/plain": [
       "      DX_GROUP  DSM_IV_TR  subject  AGE_AT_SCAN  SEX     FIQ  \\\n",
       "0            1          1    50002        16.77    1   103.0   \n",
       "1            1          1    50003        24.45    1   124.0   \n",
       "2            1          1    50004        19.09    1   113.0   \n",
       "3            1          1    50005        13.73    2   119.0   \n",
       "4            1          1    50006        13.37    1   109.0   \n",
       "...        ...        ...      ...          ...  ...     ...   \n",
       "1095         1          2    51583        35.00    1 -9999.0   \n",
       "1096         1          2    51584        49.00    1 -9999.0   \n",
       "1097         1          1    51585        27.00    1 -9999.0   \n",
       "1098         1          2    51606        29.00    2 -9999.0   \n",
       "1099         1          2    51607        26.00    1 -9999.0   \n",
       "\n",
       "      EYE_STATUS_AT_SCAN   anat_cnr  anat_efc  anat_fber  ...      2038  \\\n",
       "0                      2  10.201539  1.194664  16.223458  ...  0.709169   \n",
       "1                      2   7.165701  1.126752  10.460008  ...  0.000000   \n",
       "2                      2   7.698144  1.226218   9.725750  ...  0.000000   \n",
       "3                      2   9.071807  1.256278  11.198226  ...  0.000000   \n",
       "4                      2   8.026798  1.407166   6.282055  ...  0.000000   \n",
       "...                  ...        ...       ...        ...  ...       ...   \n",
       "1095                   2   3.899774  1.697271   3.465151  ...  2.027425   \n",
       "1096                   2   2.757735  1.073076   7.633618  ...  1.784619   \n",
       "1097                   2   3.413469  1.358238   4.335700  ...  0.542140   \n",
       "1098                   2   7.839007  1.754363  12.270055  ...  2.010930   \n",
       "1099                   2  12.169297  2.818352   9.272107  ...  0.000000   \n",
       "\n",
       "           2039      2040      2041      2042      2043      2044      2045  \\\n",
       "0      0.145987  0.573981  1.079048  0.134220  6.668210  0.000000  1.752300   \n",
       "1      0.341641  0.000000  3.089838  0.000000  1.457187  0.000000  0.387380   \n",
       "2      1.229481  0.000000  2.499114  0.000000  2.882995  0.000000  0.116916   \n",
       "3      3.199678  0.000000  4.286026  0.711807  0.000000  0.000000  1.928197   \n",
       "4      1.352294  0.377805  0.707129  0.000000  4.792439  0.000000  1.056621   \n",
       "...         ...       ...       ...       ...       ...       ...       ...   \n",
       "1095  10.180809  0.000000  0.000000  0.000000  2.317079  0.000000  1.292755   \n",
       "1096   6.494457  0.000000  2.521507  0.000000  0.000000  0.000000  1.361214   \n",
       "1097   7.581014  0.000000  1.033106  0.000000  0.151174  0.000000  0.000000   \n",
       "1098   0.000000  0.068670  0.000000  5.233705  6.228088  0.000000  0.871909   \n",
       "1099   0.000000  0.000000  4.542171  1.996868  3.232938  0.581755  0.536283   \n",
       "\n",
       "           2046      2047  \n",
       "0     17.515268  5.955179  \n",
       "1     23.950901  3.587801  \n",
       "2     15.910932  7.955417  \n",
       "3     14.744667  5.338909  \n",
       "4     12.811856  2.673212  \n",
       "...         ...       ...  \n",
       "1095   7.126568  3.599783  \n",
       "1096   5.367865  0.610961  \n",
       "1097   7.463575  2.034858  \n",
       "1098  13.715996  9.897217  \n",
       "1099  17.962841  5.092534  \n",
       "\n",
       "[1100 rows x 2077 columns]"
      ]
     },
     "execution_count": 15,
     "metadata": {},
     "output_type": "execute_result"
    }
   ],
   "source": [
    "new"
   ]
  },
  {
   "cell_type": "code",
   "execution_count": null,
   "id": "e34b9492-5af2-48af-adb9-0fafbdb78c7c",
   "metadata": {},
   "outputs": [],
   "source": []
  }
 ],
 "metadata": {
  "kernelspec": {
   "display_name": "Python 3 (ipykernel)",
   "language": "python",
   "name": "python3"
  },
  "language_info": {
   "codemirror_mode": {
    "name": "ipython",
    "version": 3
   },
   "file_extension": ".py",
   "mimetype": "text/x-python",
   "name": "python",
   "nbconvert_exporter": "python",
   "pygments_lexer": "ipython3",
   "version": "3.9.13"
  }
 },
 "nbformat": 4,
 "nbformat_minor": 5
}
